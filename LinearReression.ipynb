{
  "nbformat": 4,
  "nbformat_minor": 0,
  "metadata": {
    "colab": {
      "name": "LinearReression.ipynb",
      "provenance": [],
      "collapsed_sections": [],
      "authorship_tag": "ABX9TyN/GOmxtQqg8UJKluCea6WM",
      "include_colab_link": true
    },
    "kernelspec": {
      "display_name": "Python 3",
      "name": "python3"
    }
  },
  "cells": [
    {
      "cell_type": "markdown",
      "metadata": {
        "id": "view-in-github",
        "colab_type": "text"
      },
      "source": [
        "<a href=\"https://colab.research.google.com/github/Iswaqasahmed/Machine-Learning/blob/master/LinearReression.ipynb\" target=\"_parent\"><img src=\"https://colab.research.google.com/assets/colab-badge.svg\" alt=\"Open In Colab\"/></a>"
      ]
    },
    {
      "cell_type": "code",
      "metadata": {
        "colab": {
          "base_uri": "https://localhost:8080/"
        },
        "id": "YwG4grAM0pYv",
        "outputId": "025d4ba7-b1fc-4eb4-d654-57b8dab46252"
      },
      "source": [
        "from google.colab import drive\n",
        "drive.mount('/content/gdrive')"
      ],
      "execution_count": null,
      "outputs": [
        {
          "output_type": "stream",
          "text": [
            "Mounted at /content/gdrive\n"
          ],
          "name": "stdout"
        }
      ]
    },
    {
      "cell_type": "code",
      "metadata": {
        "id": "EbXr0cmV-KSP"
      },
      "source": [
        "import pandas as pd\n",
        "import numpy as np\n",
        "import matplotlib.pyplot as plt"
      ],
      "execution_count": 62,
      "outputs": []
    },
    {
      "cell_type": "code",
      "metadata": {
        "id": "gOwEhT1KNtkA"
      },
      "source": [
        "class SingleRegression():\r\n",
        "  def __init__(self,x,y):\r\n",
        "    x = np.array(x)\r\n",
        "    y = np.array(y)\r\n",
        "    self.x = x\r\n",
        "    self.y = y\r\n",
        "  def coffient(self):\r\n",
        "    x_mean = np.mean(self.x)\r\n",
        "    y_mean = np.mean(self.y)\r\n",
        "\r\n",
        "    SSxy = np.sum(self.y * self.x) - len(self.x)*x_mean * y_mean\r\n",
        "    SSxx = np.sum(self.x**2)  - len(self.x) * (x_mean ** 2)\r\n",
        "    print(SSxy,SSxx)\r\n",
        "    B1 = SSxy / SSxx\r\n",
        "    B0 = y_mean - (B1 * x_mean )\r\n",
        "    return B0,B1\r\n",
        "\r\n",
        "  def plot(self):\r\n",
        "    b0,b1 = self.coffient()\r\n",
        "    y_pred = b0 + b1 * self.x\r\n",
        "    plt.plot(self.x,y_pred,color='g')\r\n",
        "    plt.scatter(self.x,self.y,c='b')\r\n",
        "    plt.xlabel('X-Values')\r\n",
        "    plt.ylabel('Y-Values')\r\n",
        "    plt.title('Simple Linear Regression (one Variable)')\r\n",
        "    "
      ],
      "execution_count": 161,
      "outputs": []
    },
    {
      "cell_type": "code",
      "metadata": {
        "id": "5NFmtXtwPCe3"
      },
      "source": [
        "sinReg = SingleRegression([0, 1, 2, 3, 4, 5, 6, 7, 8, 9],[1, 3, 2, 5, 7, 8, 8, 9, 10, 12])"
      ],
      "execution_count": 162,
      "outputs": []
    },
    {
      "cell_type": "code",
      "metadata": {
        "colab": {
          "base_uri": "https://localhost:8080/"
        },
        "id": "xDEt7014PJln",
        "outputId": "6c1ce9b6-2a1f-4043-9984-04dd594fed9e"
      },
      "source": [
        "sinReg.coffient()"
      ],
      "execution_count": 163,
      "outputs": [
        {
          "output_type": "stream",
          "text": [
            "96.5 82.5\n"
          ],
          "name": "stdout"
        },
        {
          "output_type": "execute_result",
          "data": {
            "text/plain": [
              "(1.2363636363636363, 1.1696969696969697)"
            ]
          },
          "metadata": {
            "tags": []
          },
          "execution_count": 163
        }
      ]
    },
    {
      "cell_type": "code",
      "metadata": {
        "colab": {
          "base_uri": "https://localhost:8080/",
          "height": 314
        },
        "id": "_vDD8F7NPL1_",
        "outputId": "6f706f03-2ff2-42e0-b4d1-bbeec7564dbe"
      },
      "source": [
        "sinReg.plot()"
      ],
      "execution_count": 164,
      "outputs": [
        {
          "output_type": "stream",
          "text": [
            "96.5 82.5\n"
          ],
          "name": "stdout"
        },
        {
          "output_type": "display_data",
          "data": {
            "image/png": "[encoded data removed]",
            "text/plain": [
              "<Figure size 432x288 with 1 Axes>"
            ]
          },
          "metadata": {
            "tags": [],
            "needs_background": "light"
          }
        }
      ]
    },
    {
      "cell_type": "code",
      "metadata": {
        "id": "V5iqc60yUPlV"
      },
      "source": [
        ""
      ],
      "execution_count": 142,
      "outputs": []
    }
  ]
}