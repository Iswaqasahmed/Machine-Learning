{
  "nbformat": 4,
  "nbformat_minor": 0,
  "metadata": {
    "colab": {
      "name": "LinearReression.ipynb",
      "provenance": [],
      "collapsed_sections": [],
      "authorship_tag": "ABX9TyMAWAOx6iILGPgx8RPvLGXa",
      "include_colab_link": true
    },
    "kernelspec": {
      "display_name": "Python 3",
      "name": "python3"
    }
  },
  "cells": [
    {
      "cell_type": "markdown",
      "metadata": {
        "id": "view-in-github",
        "colab_type": "text"
      },
      "source": [
        "<a href=\"https://colab.research.google.com/github/Iswaqasahmed/Machine-Learning/blob/master/LinearReression.ipynb\" target=\"_parent\"><img src=\"https://colab.research.google.com/assets/colab-badge.svg\" alt=\"Open In Colab\"/></a>"
      ]
    },
    {
      "cell_type": "code",
      "metadata": {
        "colab": {
          "base_uri": "https://localhost:8080/"
        },
        "id": "YwG4grAM0pYv",
        "outputId": "025d4ba7-b1fc-4eb4-d654-57b8dab46252"
      },
      "source": [
        "from google.colab import drive\n",
        "drive.mount('/content/gdrive')"
      ],
      "execution_count": null,
      "outputs": [
        {
          "output_type": "stream",
          "text": [
            "Mounted at /content/gdrive\n"
          ],
          "name": "stdout"
        }
      ]
    },
    {
      "cell_type": "code",
      "metadata": {
        "id": "EbXr0cmV-KSP"
      },
      "source": [
        "import pandas as pd\n",
        "import numpy as np\n",
        "import matplotlib.pyplot as plt"
      ],
      "execution_count": 168,
      "outputs": []
    },
    {
      "cell_type": "code",
      "metadata": {
        "id": "gOwEhT1KNtkA",
        "colab": {
          "base_uri": "https://localhost:8080/",
          "height": 332
        },
        "outputId": "a17ae541-97cf-49b1-b7a0-d2c4abe70d2d"
      },
      "source": [
        "class SingleRegression(): ## class Name\r\n",
        "  def __init__(self,x,y): # constuctor\r\n",
        "    x = np.array(x)   # convert into arrray\r\n",
        "    y = np.array(y)\r\n",
        "    self.x = x # pass to reference\r\n",
        "    self.y = y\r\n",
        "  def coffient(self):  # it will return only coffient\r\n",
        "    x_mean = np.mean(self.x)  # convrt                                  \r\n",
        "    y_mean = np.mean(self.y) \r\n",
        "\r\n",
        "    SSxy = np.sum(self.y * self.x) - len(self.x)*x_mean * y_mean\r\n",
        "    SSxx = np.sum(self.x**2)  - len(self.x) * (x_mean ** 2)\r\n",
        "    print(SSxy,SSxx)\r\n",
        "    B1 = SSxy / SSxx\r\n",
        "    B0 = y_mean - (B1 * x_mean )\r\n",
        "    return B0,B1\r\n",
        "\r\n",
        "  def plot(self):\r\n",
        "    b0,b1 = self.coffient()\r\n",
        "    y_pred = b0 + b1 * self.x\r\n",
        "    plt.plot(self.x,y_pred,color='g',label=['Feature','Target'])\r\n",
        "    plt.scatter(self.x,self.y,c='b',label='Target')\r\n",
        "    plt.xlabel('X-Values')\r\n",
        "    plt.ylabel('Y-Values')\r\n",
        "    plt.legend(['Target','Feature'])\r\n",
        "    plt.title('Simple Linear Regression (one Variable)')\r\n",
        "\r\n",
        "\r\n",
        "sinReg = SingleRegression([0, 1, 2, 3, 4, 5, 6, 7, 8, 9],[1, 3, 2, 5, 7, 8, 8, 9, 10, 12])\r\n",
        "sinReg.coffient()\r\n",
        "sinReg.plot()\r\n",
        "\r\n",
        "\r\n",
        "class MultiRegression():\r\n",
        "  def __init__(self,*x,y):\r\n",
        "    x = np.array(x)\r\n",
        "    y = np.array(y)\r\n",
        "    self.x = x\r\n",
        "    self.y = y\r\n",
        "\r\n",
        "  \r\n"
      ],
      "execution_count": 182,
      "outputs": [
        {
          "output_type": "stream",
          "text": [
            "96.5 82.5\n",
            "96.5 82.5\n"
          ],
          "name": "stdout"
        },
        {
          "output_type": "display_data",
          "data": {
            "image/png": "[encoded data removed]",
            "text/plain": [
              "<Figure size 432x288 with 1 Axes>"
            ]
          },
          "metadata": {
            "tags": [],
            "needs_background": "light"
          }
        }
      ]
    },
    {
      "cell_type": "markdown",
      "metadata": {
        "id": "bboEBvoxa2I4"
      },
      "source": [
        ""
      ]
    },
    {
      "cell_type": "code",
      "metadata": {
        "id": "V5iqc60yUPlV"
      },
      "source": [
        "a = ([1,1,1,1],[2,2,2,])"
      ],
      "execution_count": 165,
      "outputs": []
    },
    {
      "cell_type": "code",
      "metadata": {
        "id": "jwf0JnG0jAw6"
      },
      "source": [
        "a = np.array(a)"
      ],
      "execution_count": 174,
      "outputs": []
    },
    {
      "cell_type": "code",
      "metadata": {
        "colab": {
          "base_uri": "https://localhost:8080/"
        },
        "id": "O8bQLibyjBKG",
        "outputId": "9bbe94ab-46e2-458c-a616-527f978dbf83"
      },
      "source": [
        "a"
      ],
      "execution_count": 175,
      "outputs": [
        {
          "output_type": "execute_result",
          "data": {
            "text/plain": [
              "array([list([1, 1, 1, 1]), list([2, 2, 2])], dtype=object)"
            ]
          },
          "metadata": {
            "tags": []
          },
          "execution_count": 175
        }
      ]
    },
    {
      "cell_type": "code",
      "metadata": {
        "colab": {
          "base_uri": "https://localhost:8080/"
        },
        "id": "oYItnNX1jQ40",
        "outputId": "cba06524-0afe-47fc-ff7f-012c38960624"
      },
      "source": [
        "a[0]"
      ],
      "execution_count": 176,
      "outputs": [
        {
          "output_type": "execute_result",
          "data": {
            "text/plain": [
              "[1, 1, 1, 1]"
            ]
          },
          "metadata": {
            "tags": []
          },
          "execution_count": 176
        }
      ]
    },
    {
      "cell_type": "code",
      "metadata": {
        "id": "LcbTd5lIjSeo"
      },
      "source": [
        ""
      ],
      "execution_count": null,
      "outputs": []
    }
  ]
}
