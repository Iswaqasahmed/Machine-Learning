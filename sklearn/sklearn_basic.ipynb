{
  "nbformat": 4,
  "nbformat_minor": 0,
  "metadata": {
    "colab": {
      "name": "sklearn_basic.ipynb",
      "provenance": [],
      "collapsed_sections": [],
      "authorship_tag": "ABX9TyPmvg0Jjx7yJqOh/WdSAGm1",
      "include_colab_link": true
    },
    "kernelspec": {
      "name": "python3",
      "display_name": "Python 3"
    }
  },
  "cells": [
    {
      "cell_type": "markdown",
      "metadata": {
        "id": "view-in-github",
        "colab_type": "text"
      },
      "source": [
        "<a href=\"https://colab.research.google.com/github/Iswaqasahmed/Machine-Learning/blob/master/sklearn/sklearn_basic.ipynb\" target=\"_parent\"><img src=\"https://colab.research.google.com/assets/colab-badge.svg\" alt=\"Open In Colab\"/></a>"
      ]
    },
    {
      "cell_type": "code",
      "metadata": {
        "id": "g_bPfG2LfpX-"
      },
      "source": [
        "from sklearn import tree   # import tree from sklearn"
      ],
      "execution_count": 13,
      "outputs": []
    },
    {
      "cell_type": "code",
      "metadata": {
        "id": "BKDObWznfw7g"
      },
      "source": [
        "feature = [[140,1],[130,1],[150,0],[170,0]]         # 0 apple , 1 organe\n",
        "label = [0,0,1,1]      # 0 :: Apple label, 1 :: Orange"
      ],
      "execution_count": 14,
      "outputs": []
    },
    {
      "cell_type": "code",
      "metadata": {
        "id": "F6H8yKW8gArc"
      },
      "source": [
        "clf = tree.DecisionTreeClassifier()    # Decision tree classifier"
      ],
      "execution_count": 15,
      "outputs": []
    },
    {
      "cell_type": "code",
      "metadata": {
        "colab": {
          "base_uri": "https://localhost:8080/"
        },
        "id": "xXCBbQI8gH1A",
        "outputId": "4abed90f-9832-499b-98b1-45781fbcda7f"
      },
      "source": [
        "clf.fit(feature,label)    # train our model by using fit method"
      ],
      "execution_count": 16,
      "outputs": [
        {
          "output_type": "execute_result",
          "data": {
            "text/plain": [
              "DecisionTreeClassifier(ccp_alpha=0.0, class_weight=None, criterion='gini',\n",
              "                       max_depth=None, max_features=None, max_leaf_nodes=None,\n",
              "                       min_impurity_decrease=0.0, min_impurity_split=None,\n",
              "                       min_samples_leaf=1, min_samples_split=2,\n",
              "                       min_weight_fraction_leaf=0.0, presort='deprecated',\n",
              "                       random_state=None, splitter='best')"
            ]
          },
          "metadata": {
            "tags": []
          },
          "execution_count": 16
        }
      ]
    },
    {
      "cell_type": "code",
      "metadata": {
        "colab": {
          "base_uri": "https://localhost:8080/",
          "height": 36
        },
        "id": "zdFEIQceg5ZV",
        "outputId": "4c82ef10-1264-47a4-9c72-d23ef6d9cf27"
      },
      "source": [
        "def predict(n):\r\n",
        "  pred = clf.predict(n)\r\n",
        "  if pred == 0:\r\n",
        "    return (\"Apple\")\r\n",
        "  else:\r\n",
        "    return (\"Orange\")\r\n",
        "test_data = [[143,0]]\r\n",
        "predict(test_data)"
      ],
      "execution_count": 17,
      "outputs": [
        {
          "output_type": "execute_result",
          "data": {
            "application/vnd.google.colaboratory.intrinsic+json": {
              "type": "string"
            },
            "text/plain": [
              "'Apple'"
            ]
          },
          "metadata": {
            "tags": []
          },
          "execution_count": 17
        }
      ]
    },
    {
      "cell_type": "code",
      "metadata": {
        "id": "UhQGWMNEhCde"
      },
      "source": [
        ""
      ],
      "execution_count": null,
      "outputs": []
    }
  ]
}