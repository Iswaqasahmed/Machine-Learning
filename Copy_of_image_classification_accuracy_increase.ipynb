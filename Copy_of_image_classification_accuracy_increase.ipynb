{
  "nbformat": 4,
  "nbformat_minor": 0,
  "metadata": {
    "accelerator": "TPU",
    "colab": {
      "name": "Copy of image_classification_accuracy_increase.ipynb",
      "provenance": [],
      "collapsed_sections": [],
      "include_colab_link": true
    },
    "kernelspec": {
      "display_name": "Python 3",
      "name": "python3"
    }
  },
  "cells": [
    {
      "cell_type": "markdown",
      "metadata": {
        "id": "view-in-github",
        "colab_type": "text"
      },
      "source": [
        "<a href=\"https://colab.research.google.com/github/Iswaqasahmed/Machine-Learning/blob/master/Copy_of_image_classification_accuracy_increase.ipynb\" target=\"_parent\"><img src=\"https://colab.research.google.com/assets/colab-badge.svg\" alt=\"Open In Colab\"/></a>"
      ]
    },
    {
      "cell_type": "markdown",
      "metadata": {
        "id": "RYiju9b5gpXl"
      },
      "source": [
        "**Test 4** <br>\r\n",
        "**95 % accuracy**"
      ]
    },
    {
      "cell_type": "code",
      "metadata": {
        "colab": {
          "base_uri": "https://localhost:8080/"
        },
        "id": "aAIgVJ3yg4d1",
        "outputId": "103c8e26-702a-48d8-d9e0-fe9ee21efc60"
      },
      "source": [
        "# Importing all necessary libraries\r\n",
        "from keras.preprocessing.image import ImageDataGenerator\r\n",
        "from keras.models import Sequential\r\n",
        "from matplotlib import pyplot\r\n",
        "import matplotlib.pyplot as plt\r\n",
        "from keras.layers import Conv2D, MaxPooling2D\r\n",
        "from sklearn.metrics import classification_report, confusion_matrix\r\n",
        "from keras.layers import Activation, Dropout, Flatten, Dense\r\n",
        "from keras import backend as K\r\n",
        "import numpy as np\r\n",
        "from keras.models import load_model\r\n",
        "import keras\r\n",
        "from keras.callbacks import ModelCheckpoint\r\n",
        "#Image Size\r\n",
        "img_width, img_height = 224, 224\r\n",
        "\r\n",
        "\r\n",
        "# Reading training data from the directory\r\n",
        "train_data_dir = '/content/drive/MyDrive/Car Vs Plan Data Sets/train'\r\n",
        "# Reading validation data from the directory\r\n",
        "validation_data_dir = '/content/drive/MyDrive/Car Vs Plan Data Sets/test'\r\n",
        "# Total train instances\r\n",
        "nb_train_samples =400\r\n",
        "# Total Test instances\r\n",
        "nb_validation_samples = 100\r\n",
        "batch_size = 8\r\n",
        "\r\n",
        "\r\n",
        " # To check if the shape of input image is correct\r\n",
        "if K.image_data_format() == 'channels_first':\r\n",
        "  input_shape = (3, img_width, img_height)\r\n",
        "else:\r\n",
        "  input_shape = (img_width, img_height, 3)\r\n",
        "\r\n",
        "\r\n",
        "# Defining Sequential CNN model\r\n",
        "model = Sequential()\r\n",
        "model.add(Conv2D(32, (3,3), input_shape=input_shape))\r\n",
        "model.add(Activation('relu'))\r\n",
        "model.add(MaxPooling2D(pool_size=(2, 2)))\r\n",
        "\r\n",
        "model.add(Conv2D(32, (3, 3)))\r\n",
        "model.add(Activation('relu'))\r\n",
        "model.add(MaxPooling2D(pool_size=(2, 2)))\r\n",
        "\r\n",
        "model.add(Conv2D(64, (3, 3)))\r\n",
        "model.add(Activation('relu'))\r\n",
        "model.add(MaxPooling2D(pool_size=(2, 2)))\r\n",
        "model.add(Flatten())\r\n",
        "\r\n",
        "model.add(Dense(64))\r\n",
        "model.add(Activation('relu'))\r\n",
        "model.add(Dropout(0.5))\r\n",
        "model.add(Dense(1))\r\n",
        "model.add(Activation('sigmoid'))\r\n",
        "\r\n",
        "\r\n",
        "\r\n",
        "# compile model\r\n",
        "model.compile(loss='binary_crossentropy', optimizer='rmsprop',metrics=['accuracy'])\r\n",
        "\r\n",
        "\r\n",
        "checkpoint = ModelCheckpoint(\"best_model.hdf5\", monitor='val_accuracy', verbose=1,\r\n",
        "    save_best_only=True, mode='auto', period=1)\r\n",
        "\r\n",
        "\r\n",
        "#cearting virtual datastore for training data set\r\n",
        "train_datagen = ImageDataGenerator(\r\n",
        "rotation_range=40,\r\n",
        "width_shift_range=0.2,\r\n",
        "height_shift_range=0.2,\r\n",
        "rescale=1. / 255,\r\n",
        "shear_range=0.2,\r\n",
        "zoom_range=0.3,\r\n",
        "horizontal_flip=True,\r\n",
        "fill_mode='nearest')\r\n",
        "\r\n",
        "#cearting virtual datastore for testing data set\r\n",
        "test_datagen = ImageDataGenerator(rescale=1. / 255)\r\n",
        "\r\n",
        "\r\n",
        "# Fetching training data from folder\r\n",
        "train_generator = train_datagen.flow_from_directory(\r\n",
        "train_data_dir,\r\n",
        "target_size=(img_width, img_height),\r\n",
        "batch_size=batch_size,\r\n",
        "class_mode='binary')\r\n",
        "\r\n",
        "\r\n",
        "\r\n",
        "# Fetching testing data from folder\r\n",
        "validation_generator = test_datagen.flow_from_directory(\r\n",
        "validation_data_dir,\r\n",
        "target_size=(img_width, img_height),\r\n",
        "batch_size=batch_size,\r\n",
        "class_mode='binary')\r\n",
        "\r\n",
        "\r\n",
        "\r\n",
        "# Fitting model\r\n",
        "history = model.fit_generator(train_generator,steps_per_epoch=len(train_generator),\r\n",
        "validation_data=validation_generator,validation_steps=len(validation_generator), epochs=50, verbose=1, callbacks=[checkpoint])\r\n",
        "model.save_weights('first_try.h5')  # always save your weights after training or during training\r\n",
        "\r\n",
        "\r\n",
        "# list all data in history\r\n",
        "print(history.history.keys())\r\n"
      ],
      "execution_count": null,
      "outputs": [
        {
          "output_type": "stream",
          "text": [
            "WARNING:tensorflow:`period` argument is deprecated. Please use `save_freq` to specify the frequency in number of batches seen.\n",
            "Found 400 images belonging to 2 classes.\n",
            "Found 100 images belonging to 2 classes.\n"
          ],
          "name": "stdout"
        },
        {
          "output_type": "stream",
          "text": [
            "/usr/local/lib/python3.6/dist-packages/tensorflow/python/keras/engine/training.py:1844: UserWarning: `Model.fit_generator` is deprecated and will be removed in a future version. Please use `Model.fit`, which supports generators.\n",
            "  warnings.warn('`Model.fit_generator` is deprecated and '\n"
          ],
          "name": "stderr"
        },
        {
          "output_type": "stream",
          "text": [
            "Epoch 1/50\n",
            "50/50 [==============================] - 31s 597ms/step - loss: 2.0030 - accuracy: 0.4967 - val_loss: 0.5417 - val_accuracy: 0.6900\n",
            "\n",
            "Epoch 00001: val_accuracy improved from -inf to 0.69000, saving model to best_model.hdf5\n",
            "Epoch 2/50\n",
            "50/50 [==============================] - 30s 595ms/step - loss: 0.6440 - accuracy: 0.6714 - val_loss: 0.4993 - val_accuracy: 0.7500\n",
            "\n",
            "Epoch 00002: val_accuracy improved from 0.69000 to 0.75000, saving model to best_model.hdf5\n",
            "Epoch 3/50\n",
            "50/50 [==============================] - 30s 593ms/step - loss: 0.5639 - accuracy: 0.7571 - val_loss: 0.4263 - val_accuracy: 0.7800\n",
            "\n",
            "Epoch 00003: val_accuracy improved from 0.75000 to 0.78000, saving model to best_model.hdf5\n",
            "Epoch 4/50\n",
            "50/50 [==============================] - 30s 596ms/step - loss: 0.6152 - accuracy: 0.6637 - val_loss: 0.4483 - val_accuracy: 0.7600\n",
            "\n",
            "Epoch 00004: val_accuracy did not improve from 0.78000\n",
            "Epoch 5/50\n",
            "50/50 [==============================] - 30s 592ms/step - loss: 0.5736 - accuracy: 0.7429 - val_loss: 0.3294 - val_accuracy: 0.8600\n",
            "\n",
            "Epoch 00005: val_accuracy improved from 0.78000 to 0.86000, saving model to best_model.hdf5\n",
            "Epoch 6/50\n",
            "50/50 [==============================] - 30s 590ms/step - loss: 0.5231 - accuracy: 0.8136 - val_loss: 0.3886 - val_accuracy: 0.8800\n",
            "\n",
            "Epoch 00006: val_accuracy improved from 0.86000 to 0.88000, saving model to best_model.hdf5\n",
            "Epoch 7/50\n",
            "50/50 [==============================] - 30s 596ms/step - loss: 0.4861 - accuracy: 0.8081 - val_loss: 0.3430 - val_accuracy: 0.8900\n",
            "\n",
            "Epoch 00007: val_accuracy improved from 0.88000 to 0.89000, saving model to best_model.hdf5\n",
            "Epoch 8/50\n",
            "50/50 [==============================] - 30s 593ms/step - loss: 0.5228 - accuracy: 0.7429 - val_loss: 0.3418 - val_accuracy: 0.8300\n",
            "\n",
            "Epoch 00008: val_accuracy did not improve from 0.89000\n",
            "Epoch 9/50\n",
            "50/50 [==============================] - 30s 602ms/step - loss: 0.4381 - accuracy: 0.8199 - val_loss: 0.3066 - val_accuracy: 0.8700\n",
            "\n",
            "Epoch 00009: val_accuracy did not improve from 0.89000\n",
            "Epoch 10/50\n",
            "50/50 [==============================] - 30s 593ms/step - loss: 0.4571 - accuracy: 0.8211 - val_loss: 0.2786 - val_accuracy: 0.9000\n",
            "\n",
            "Epoch 00010: val_accuracy improved from 0.89000 to 0.90000, saving model to best_model.hdf5\n",
            "Epoch 11/50\n",
            "50/50 [==============================] - 30s 589ms/step - loss: 0.3949 - accuracy: 0.8188 - val_loss: 0.2668 - val_accuracy: 0.9000\n",
            "\n",
            "Epoch 00011: val_accuracy did not improve from 0.90000\n",
            "Epoch 12/50\n",
            "50/50 [==============================] - 30s 590ms/step - loss: 0.4330 - accuracy: 0.7971 - val_loss: 0.2506 - val_accuracy: 0.9200\n",
            "\n",
            "Epoch 00012: val_accuracy improved from 0.90000 to 0.92000, saving model to best_model.hdf5\n",
            "Epoch 13/50\n",
            "50/50 [==============================] - 30s 589ms/step - loss: 0.4125 - accuracy: 0.8391 - val_loss: 0.2097 - val_accuracy: 0.9200\n",
            "\n",
            "Epoch 00013: val_accuracy did not improve from 0.92000\n",
            "Epoch 14/50\n",
            "50/50 [==============================] - 30s 589ms/step - loss: 0.3886 - accuracy: 0.8387 - val_loss: 0.5706 - val_accuracy: 0.7700\n",
            "\n",
            "Epoch 00014: val_accuracy did not improve from 0.92000\n",
            "Epoch 15/50\n",
            "50/50 [==============================] - 30s 589ms/step - loss: 0.4230 - accuracy: 0.8071 - val_loss: 0.3320 - val_accuracy: 0.8800\n",
            "\n",
            "Epoch 00015: val_accuracy did not improve from 0.92000\n",
            "Epoch 16/50\n",
            "50/50 [==============================] - 30s 591ms/step - loss: 0.3926 - accuracy: 0.8373 - val_loss: 0.3113 - val_accuracy: 0.8700\n",
            "\n",
            "Epoch 00016: val_accuracy did not improve from 0.92000\n",
            "Epoch 17/50\n",
            "50/50 [==============================] - 30s 591ms/step - loss: 0.3137 - accuracy: 0.8645 - val_loss: 0.2605 - val_accuracy: 0.9000\n",
            "\n",
            "Epoch 00017: val_accuracy did not improve from 0.92000\n",
            "Epoch 18/50\n",
            "50/50 [==============================] - 30s 592ms/step - loss: 0.4055 - accuracy: 0.8096 - val_loss: 0.3689 - val_accuracy: 0.8000\n",
            "\n",
            "Epoch 00018: val_accuracy did not improve from 0.92000\n",
            "Epoch 19/50\n",
            "50/50 [==============================] - 30s 591ms/step - loss: 0.4461 - accuracy: 0.8144 - val_loss: 0.1926 - val_accuracy: 0.9500\n",
            "\n",
            "Epoch 00019: val_accuracy improved from 0.92000 to 0.95000, saving model to best_model.hdf5\n",
            "Epoch 20/50\n",
            "50/50 [==============================] - 30s 589ms/step - loss: 0.4130 - accuracy: 0.8378 - val_loss: 0.2164 - val_accuracy: 0.9200\n",
            "\n",
            "Epoch 00020: val_accuracy did not improve from 0.95000\n",
            "Epoch 21/50\n",
            "50/50 [==============================] - 30s 588ms/step - loss: 0.4277 - accuracy: 0.8238 - val_loss: 0.2166 - val_accuracy: 0.9000\n",
            "\n",
            "Epoch 00021: val_accuracy did not improve from 0.95000\n",
            "Epoch 22/50\n",
            "50/50 [==============================] - 30s 589ms/step - loss: 0.3886 - accuracy: 0.8474 - val_loss: 0.2127 - val_accuracy: 0.9100\n",
            "\n",
            "Epoch 00022: val_accuracy did not improve from 0.95000\n",
            "Epoch 23/50\n",
            "50/50 [==============================] - 30s 594ms/step - loss: 0.3860 - accuracy: 0.8665 - val_loss: 0.2788 - val_accuracy: 0.8800\n",
            "\n",
            "Epoch 00023: val_accuracy did not improve from 0.95000\n",
            "Epoch 24/50\n",
            "50/50 [==============================] - 29s 582ms/step - loss: 0.4530 - accuracy: 0.8334 - val_loss: 0.2448 - val_accuracy: 0.8700\n",
            "\n",
            "Epoch 00024: val_accuracy did not improve from 0.95000\n",
            "Epoch 25/50\n",
            "50/50 [==============================] - 29s 583ms/step - loss: 0.3450 - accuracy: 0.8443 - val_loss: 0.2232 - val_accuracy: 0.9400\n",
            "\n",
            "Epoch 00025: val_accuracy did not improve from 0.95000\n",
            "Epoch 26/50\n",
            "50/50 [==============================] - 29s 581ms/step - loss: 0.3111 - accuracy: 0.8802 - val_loss: 0.2910 - val_accuracy: 0.8900\n",
            "\n",
            "Epoch 00026: val_accuracy did not improve from 0.95000\n",
            "Epoch 27/50\n",
            "50/50 [==============================] - 29s 583ms/step - loss: 0.3071 - accuracy: 0.8827 - val_loss: 0.2932 - val_accuracy: 0.8900\n",
            "\n",
            "Epoch 00027: val_accuracy did not improve from 0.95000\n",
            "Epoch 28/50\n",
            "50/50 [==============================] - 29s 584ms/step - loss: 0.3411 - accuracy: 0.8690 - val_loss: 0.6834 - val_accuracy: 0.7000\n",
            "\n",
            "Epoch 00028: val_accuracy did not improve from 0.95000\n",
            "Epoch 29/50\n",
            "50/50 [==============================] - 29s 578ms/step - loss: 0.3650 - accuracy: 0.8810 - val_loss: 0.3840 - val_accuracy: 0.8300\n",
            "\n",
            "Epoch 00029: val_accuracy did not improve from 0.95000\n",
            "Epoch 30/50\n",
            "50/50 [==============================] - 29s 585ms/step - loss: 0.3260 - accuracy: 0.8444 - val_loss: 0.2219 - val_accuracy: 0.9400\n",
            "\n",
            "Epoch 00030: val_accuracy did not improve from 0.95000\n",
            "Epoch 31/50\n",
            "50/50 [==============================] - 29s 579ms/step - loss: 0.3769 - accuracy: 0.8440 - val_loss: 0.2498 - val_accuracy: 0.8800\n",
            "\n",
            "Epoch 00031: val_accuracy did not improve from 0.95000\n",
            "Epoch 32/50\n",
            "50/50 [==============================] - 29s 579ms/step - loss: 0.3422 - accuracy: 0.8676 - val_loss: 0.2241 - val_accuracy: 0.9100\n",
            "\n",
            "Epoch 00032: val_accuracy did not improve from 0.95000\n",
            "Epoch 33/50\n",
            "50/50 [==============================] - 29s 580ms/step - loss: 0.3745 - accuracy: 0.8582 - val_loss: 0.2356 - val_accuracy: 0.9200\n",
            "\n",
            "Epoch 00033: val_accuracy did not improve from 0.95000\n",
            "Epoch 34/50\n",
            "50/50 [==============================] - 29s 580ms/step - loss: 0.3953 - accuracy: 0.8105 - val_loss: 0.2182 - val_accuracy: 0.9500\n",
            "\n",
            "Epoch 00034: val_accuracy did not improve from 0.95000\n",
            "Epoch 35/50\n",
            "50/50 [==============================] - 29s 581ms/step - loss: 0.3587 - accuracy: 0.8699 - val_loss: 0.2330 - val_accuracy: 0.9400\n",
            "\n",
            "Epoch 00035: val_accuracy did not improve from 0.95000\n",
            "Epoch 36/50\n",
            "50/50 [==============================] - 29s 582ms/step - loss: 0.3828 - accuracy: 0.8520 - val_loss: 0.3565 - val_accuracy: 0.8600\n",
            "\n",
            "Epoch 00036: val_accuracy did not improve from 0.95000\n",
            "Epoch 37/50\n",
            "50/50 [==============================] - 29s 581ms/step - loss: 0.3853 - accuracy: 0.8729 - val_loss: 0.1931 - val_accuracy: 0.9400\n",
            "\n",
            "Epoch 00037: val_accuracy did not improve from 0.95000\n",
            "Epoch 38/50\n",
            "50/50 [==============================] - 29s 579ms/step - loss: 0.3925 - accuracy: 0.8631 - val_loss: 0.2280 - val_accuracy: 0.9000\n",
            "\n",
            "Epoch 00038: val_accuracy did not improve from 0.95000\n",
            "Epoch 39/50\n",
            "50/50 [==============================] - 29s 581ms/step - loss: 0.3672 - accuracy: 0.8810 - val_loss: 0.2646 - val_accuracy: 0.9000\n",
            "\n",
            "Epoch 00039: val_accuracy did not improve from 0.95000\n",
            "Epoch 40/50\n",
            "50/50 [==============================] - 29s 586ms/step - loss: 0.3714 - accuracy: 0.8812 - val_loss: 0.2376 - val_accuracy: 0.9200\n",
            "\n",
            "Epoch 00040: val_accuracy did not improve from 0.95000\n",
            "Epoch 41/50\n",
            "50/50 [==============================] - 29s 581ms/step - loss: 0.3364 - accuracy: 0.8558 - val_loss: 0.2281 - val_accuracy: 0.9300\n",
            "\n",
            "Epoch 00041: val_accuracy did not improve from 0.95000\n",
            "Epoch 42/50\n",
            "50/50 [==============================] - 29s 583ms/step - loss: 0.3251 - accuracy: 0.9065 - val_loss: 0.2287 - val_accuracy: 0.9100\n",
            "\n",
            "Epoch 00042: val_accuracy did not improve from 0.95000\n",
            "Epoch 43/50\n",
            "50/50 [==============================] - 29s 583ms/step - loss: 0.5694 - accuracy: 0.8279 - val_loss: 0.2165 - val_accuracy: 0.9300\n",
            "\n",
            "Epoch 00043: val_accuracy did not improve from 0.95000\n",
            "Epoch 44/50\n",
            "50/50 [==============================] - 29s 584ms/step - loss: 0.3709 - accuracy: 0.8557 - val_loss: 0.1890 - val_accuracy: 0.9500\n",
            "\n",
            "Epoch 00044: val_accuracy did not improve from 0.95000\n",
            "Epoch 45/50\n",
            "50/50 [==============================] - 29s 584ms/step - loss: 0.3895 - accuracy: 0.8742 - val_loss: 0.2382 - val_accuracy: 0.9100\n",
            "\n",
            "Epoch 00045: val_accuracy did not improve from 0.95000\n",
            "Epoch 46/50\n",
            "50/50 [==============================] - 29s 583ms/step - loss: 0.4010 - accuracy: 0.8688 - val_loss: 0.2296 - val_accuracy: 0.9100\n",
            "\n",
            "Epoch 00046: val_accuracy did not improve from 0.95000\n",
            "Epoch 47/50\n",
            "50/50 [==============================] - 29s 582ms/step - loss: 0.2441 - accuracy: 0.9110 - val_loss: 0.2491 - val_accuracy: 0.9100\n",
            "\n",
            "Epoch 00047: val_accuracy did not improve from 0.95000\n",
            "Epoch 48/50\n",
            "50/50 [==============================] - 29s 580ms/step - loss: 0.2883 - accuracy: 0.8983 - val_loss: 0.2535 - val_accuracy: 0.9100\n",
            "\n",
            "Epoch 00048: val_accuracy did not improve from 0.95000\n",
            "Epoch 49/50\n",
            "50/50 [==============================] - 29s 581ms/step - loss: 0.4257 - accuracy: 0.8250 - val_loss: 0.1908 - val_accuracy: 0.9400\n",
            "\n",
            "Epoch 00049: val_accuracy did not improve from 0.95000\n",
            "Epoch 50/50\n",
            "50/50 [==============================] - 30s 592ms/step - loss: 0.3376 - accuracy: 0.8956 - val_loss: 0.1815 - val_accuracy: 0.9500\n",
            "\n",
            "Epoch 00050: val_accuracy did not improve from 0.95000\n",
            "dict_keys(['loss', 'accuracy', 'val_loss', 'val_accuracy'])\n"
          ],
          "name": "stdout"
        }
      ]
    },
    {
      "cell_type": "code",
      "metadata": {
        "colab": {
          "base_uri": "https://localhost:8080/"
        },
        "id": "6B4w4gxuqisM",
        "outputId": "e13a9cb2-fa35-4b26-cf37-0430977bac7c"
      },
      "source": [
        "# Model Evalution\r\n",
        "_, acc = model.evaluate_generator(validation_generator,\r\n",
        "steps=len(validation_generator),workers=1)\r\n",
        "print('> %.3f' % (acc * 100.0))"
      ],
      "execution_count": null,
      "outputs": [
        {
          "output_type": "stream",
          "text": [
            "/usr/local/lib/python3.6/dist-packages/tensorflow/python/keras/engine/training.py:1877: UserWarning: `Model.evaluate_generator` is deprecated and will be removed in a future version. Please use `Model.evaluate`, which supports generators.\n",
            "  warnings.warn('`Model.evaluate_generator` is deprecated and '\n"
          ],
          "name": "stderr"
        },
        {
          "output_type": "stream",
          "text": [
            "> 95.000\n"
          ],
          "name": "stdout"
        }
      ]
    },
    {
      "cell_type": "code",
      "metadata": {
        "colab": {
          "base_uri": "https://localhost:8080/"
        },
        "id": "fXsKvwO4pUzi",
        "outputId": "0994b9ec-6304-4509-8ccd-f01e08727d10"
      },
      "source": [
        "#Confution Matrix and Classification Report\r\n",
        "y_pred = model.predict_generator(validation_generator,steps=len(validation_generator),workers=1)\r\n",
        "y_pred = np.argmax(y_pred, axis=1)\r\n",
        "print('Confusion matrix')\r\n",
        "array=confusion_matrix(validation_generator.classes, y_pred)\r\n",
        "print('Classification Report')\r\n",
        "target_names = ['Cars', 'Planes']\r\n",
        "print(classification_report(validation_generator.classes, y_pred,target_names=target_names))\r\n",
        "cp=classification_report(validation_generator.classes, y_pred,target_names=target_names)\r\n",
        "#%%\r\n",
        "# plot Confution Matrix\r\n",
        "import seaborn as sns\r\n",
        "import numpy as np\r\n",
        "import pandas as pd\r\n",
        "def plot_cm(y_true, y_pred, figsize=(6,4)):\r\n",
        "  cm = confusion_matrix(y_true, y_pred, labels=np.unique(y_true))\r\n",
        "  cm_sum = np.sum(cm, axis=1, keepdims=True)\r\n",
        "  cm_perc = cm / cm_sum.astype(float) * 100\r\n",
        "  annot = np.empty_like(cm).astype(str)\r\n",
        "  nrows, ncols = cm.shape\r\n",
        "  for i in range(nrows):\r\n",
        "   for j in range(ncols):\r\n",
        "     c = cm[i, j]\r\n",
        "     p = cm_perc[i, j]\r\n",
        "     if i == j:\r\n",
        "      s = cm_sum[i]\r\n",
        "      annot[i, j] = '%.1f%%\\n%d/%d' % (p, c, s)\r\n",
        "     elif c == 0:\r\n",
        "      annot[i, j] = ''\r\n",
        "     else:\r\n",
        "      annot[i, j] = '%.1f%%\\n%d' % (p, c)\r\n",
        "  cm = pd.DataFrame(cm, index=np.unique(y_true), columns=np.unique(y_true))\r\n",
        "  cm.index.name = 'Actual'\r\n",
        "  cm.columns.name = 'Predicted'\r\n",
        "  fig, ax = plt.subplots(figsize=figsize)\r\n",
        "  sns.heatmap(cm, cmap= \"YlGnBu\", annot=annot, fmt='', ax=ax)\r\n",
        "  x = np.array([0,1])\r\n",
        "  my_xticks = ['Cars', 'Planes']\r\n",
        "  plt.xticks(x, my_xticks,rotation=15)\r\n",
        "  plt.yticks(x, my_xticks,rotation=60)\r\n",
        "  plot_cm(validation_generator.classes, y_pred)"
      ],
      "execution_count": null,
      "outputs": [
        {
          "output_type": "stream",
          "text": [
            "/usr/local/lib/python3.6/dist-packages/tensorflow/python/keras/engine/training.py:1905: UserWarning: `Model.predict_generator` is deprecated and will be removed in a future version. Please use `Model.predict`, which supports generators.\n",
            "  warnings.warn('`Model.predict_generator` is deprecated and '\n"
          ],
          "name": "stderr"
        },
        {
          "output_type": "stream",
          "text": [
            "Confusion matrix\n",
            "Classification Report\n",
            "              precision    recall  f1-score   support\n",
            "\n",
            "        Cars       0.50      1.00      0.67        50\n",
            "      Planes       0.00      0.00      0.00        50\n",
            "\n",
            "    accuracy                           0.50       100\n",
            "   macro avg       0.25      0.50      0.33       100\n",
            "weighted avg       0.25      0.50      0.33       100\n",
            "\n"
          ],
          "name": "stdout"
        },
        {
          "output_type": "stream",
          "text": [
            "/usr/local/lib/python3.6/dist-packages/sklearn/metrics/_classification.py:1272: UndefinedMetricWarning: Precision and F-score are ill-defined and being set to 0.0 in labels with no predicted samples. Use `zero_division` parameter to control this behavior.\n",
            "  _warn_prf(average, modifier, msg_start, len(result))\n"
          ],
          "name": "stderr"
        }
      ]
    },
    {
      "cell_type": "code",
      "metadata": {
        "id": "Nirm4zN2pY8Y"
      },
      "source": [
        "#for accuracy and lose plots\r\n",
        "def summarize_diagnostics(history):\r\n",
        "# plot loss\r\n",
        "  pyplot.subplot(211)\r\n",
        "  pyplot.title('Cross Entropy Loss')\r\n",
        "  pyplot.plot(history.history['loss'], color='blue', label='train')\r\n",
        "  pyplot.plot(history.history['val_loss'], color='orange', label='test')\r\n",
        "  # plot accuracy\r\n",
        "  pyplot.subplot(212)\r\n",
        "  pyplot.title('Classification Accuracy')\r\n",
        "  pyplot.plot(history.history['acc'], color='blue', label='train')\r\n",
        "  pyplot.plot(history.history['val_acc'], color='orange', label='test')\r\n",
        "  # save plot to file\r\n",
        "  filename = sys.argv[0].split('/')[-1]\r\n",
        "  pyplot.savefig(filename + '_plot.png')\r\n",
        "  pyplot.close()\r\n",
        "  #%%"
      ],
      "execution_count": null,
      "outputs": []
    },
    {
      "cell_type": "code",
      "metadata": {
        "colab": {
          "base_uri": "https://localhost:8080/",
          "height": 573
        },
        "id": "hh4Tj-CMxCq2",
        "outputId": "3c49506e-2521-42e0-cc59-11b983a3f704"
      },
      "source": [
        "#%%\r\n",
        "# learning curves\r\n",
        "#summarize_diagnostics(history)\r\n",
        "# summarize history for accuracy\r\n",
        "fig=plt.figure()\r\n",
        "plt.plot(history.history['accuracy'])\r\n",
        "plt.plot(history.history['val_accuracy'])\r\n",
        "plt.title('Model Accuracy')\r\n",
        "plt.ylabel('Accuracy')\r\n",
        "plt.xlabel('Epochs')\r\n",
        "plt.legend(['train', 'val'], loc='upper right')\r\n",
        "plt.show()\r\n",
        "#%%\r\n",
        "# summarize history for loss\r\n",
        "plt.plot(history.history['loss'])\r\n",
        "plt.plot(history.history['val_loss'])\r\n",
        "plt.title('Model Loss')\r\n",
        "plt.ylabel('Loss')\r\n",
        "plt.xlabel('Epochs')\r\n",
        "plt.legend(['train', 'val'], loc='upper right')\r\n",
        "plt.show()\r\n"
      ],
      "execution_count": null,
      "outputs": [
        {
          "output_type": "display_data",
          "data": {
            "image/png": "[encoded data removed]",
            "text/plain": [
              "<Figure size 432x288 with 1 Axes>"
            ]
          },
          "metadata": {
            "tags": [],
            "needs_background": "light"
          }
        },
        {
          "output_type": "display_data",
          "data": {
            "image/png": "[encoded data removed]",
            "text/plain": [
              "<Figure size 432x288 with 1 Axes>"
            ]
          },
          "metadata": {
            "tags": [],
            "needs_background": "light"
          }
        }
      ]
    },
    {
      "cell_type": "code",
      "metadata": {
        "id": "EHPKTh1q75wR"
      },
      "source": [
        ""
      ],
      "execution_count": null,
      "outputs": []
    },
    {
      "cell_type": "code",
      "metadata": {
        "id": "lzNk0YKS_K1o"
      },
      "source": [
        ""
      ],
      "execution_count": null,
      "outputs": []
    },
    {
      "cell_type": "code",
      "metadata": {
        "id": "EYgAl03h9ydp"
      },
      "source": [
        "test_output_image_array = np.zeros(shape=(len(numpydata), 224, 224))"
      ],
      "execution_count": null,
      "outputs": []
    },
    {
      "cell_type": "code",
      "metadata": {
        "id": "X6tIqQbhpY-o"
      },
      "source": [
        "#  # this converts our 3D feature maps to 1D feature vectors\r\n",
        "# model.add(Flatten()) \r\n",
        "# model.add(Dense(64))\r\n",
        "# model.add(Activation('relu'))\r\n",
        "# model.add(Dropout(0.5))\r\n",
        "# model.add(Dense(1))\r\n",
        "# model.add(Activation('sigmoid'))\r\n",
        "\r\n",
        "# model.compile(loss='binary_crossentropy',\r\n",
        "#               optimizer='rmsprop',\r\n",
        "#               metrics=['accuracy'])"
      ],
      "execution_count": null,
      "outputs": []
    },
    {
      "cell_type": "code",
      "metadata": {
        "id": "WbrN4Dzupee3"
      },
      "source": [
        "\r\n",
        "# # this is the augmentation configuration we will use for training\r\n",
        "# train_datagen = ImageDataGenerator(\r\n",
        "#         rescale=1./255,\r\n",
        "#         shear_range=0.2,\r\n",
        "#         zoom_range=0.2,\r\n",
        "#         horizontal_flip=True)\r\n",
        "\r\n",
        "# # this is the augmentation configuration we will use for testing:\r\n",
        "# # only rescaling\r\n",
        "# test_datagen = ImageDataGenerator(rescale=1./255)\r\n",
        "\r\n",
        "# # this is a generator that will read pictures found in\r\n",
        "# # subfolers of 'data/train', and indefinitely generate\r\n",
        "# # batches of augmented image data\r\n",
        "# train_generator = train_datagen.flow_from_directory(\r\n",
        "#         train_data_dir,  # this is the target directory\r\n",
        "#         target_size=(img_width, img_height),  # all images will be resized to 150x150\r\n",
        "#         batch_size=batch_size,\r\n",
        "#         class_mode='binary')  # since we use binary_crossentropy loss, we need binary labels\r\n",
        "\r\n",
        "# # this is a similar generator, for validation data\r\n",
        "# validation_generator = test_datagen.flow_from_directory(\r\n",
        "#         validation_data_dir,\r\n",
        "#         target_size=(img_width, img_height),\r\n",
        "#         batch_size=batch_size,\r\n",
        "#         class_mode='binary')"
      ],
      "execution_count": null,
      "outputs": []
    },
    {
      "cell_type": "code",
      "metadata": {
        "id": "zgb15InLqAw6"
      },
      "source": [
        "# model.fit_generator(\r\n",
        "#         train_generator,\r\n",
        "#         steps_per_epoch=2000 // batch_size,\r\n",
        "#         epochs=50,\r\n",
        "#         validation_data=validation_generator,\r\n",
        "#         validation_steps=800 // batch_size)\r\n",
        "# model.save_weights('first_try.h5')  # always save your weights after training or during training"
      ],
      "execution_count": null,
      "outputs": []
    },
    {
      "cell_type": "markdown",
      "metadata": {
        "id": "EwgTaXNcqpn3"
      },
      "source": [
        "**Bottle Neck**"
      ]
    },
    {
      "cell_type": "code",
      "metadata": {
        "id": "b62yUhLVqnWm"
      },
      "source": [
        "\r\n",
        "# generator = datagen.flow_from_directory(\r\n",
        "#         'data/train',\r\n",
        "#         target_size=(150, 150),\r\n",
        "#         batch_size=batch_size,\r\n",
        "#         class_mode=None,  # this means our generator will only yield batches of data, no labels\r\n",
        "#         shuffle=False)  # our data will be in order, so all first 1000 images will be cats, then 1000 dogs\r\n",
        "# # the predict_generator method returns the output of a model, given\r\n",
        "# # a generator that yields batches of numpy data\r\n",
        "# bottleneck_features_train = model.predict_generator(generator, 2000)\r\n",
        "# # save the output as a Numpy array\r\n",
        "# np.save(open('bottleneck_features_train.npy', 'w'), bottleneck_features_train)\r\n",
        "\r\n",
        "# generator = datagen.flow_from_directory(\r\n",
        "#         'data/validation',\r\n",
        "#         target_size=(150, 150),\r\n",
        "#         batch_size=batch_size,\r\n",
        "#         class_mode=None,\r\n",
        "#         shuffle=False)\r\n",
        "# bottleneck_features_validation = model.predict_generator(generator, 800)\r\n",
        "# np.save(open('bottleneck_features_validation.npy', 'w'), bottleneck_features_validation)"
      ],
      "execution_count": null,
      "outputs": []
    },
    {
      "cell_type": "code",
      "metadata": {
        "id": "aqPEXUo2qw0y"
      },
      "source": [
        "# train_data = np.load(open('bottleneck_features_train.npy'))\r\n",
        "# # the features were saved in order, so recreating the labels is easy\r\n",
        "# train_labels = np.array([0] * 1000 + [1] * 1000)\r\n",
        "\r\n",
        "# validation_data = np.load(open('bottleneck_features_validation.npy'))\r\n",
        "# validation_labels = np.array([0] * 400 + [1] * 400)\r\n",
        "\r\n",
        "# model = Sequential()\r\n",
        "# model.add(Flatten(input_shape=train_data.shape[1:]))\r\n",
        "# model.add(Dense(256, activation='relu'))\r\n",
        "# model.add(Dropout(0.5))\r\n",
        "# model.add(Dense(1, activation='sigmoid'))\r\n",
        "\r\n",
        "# model.compile(optimizer='rmsprop',\r\n",
        "#               loss='binary_crossentropy',\r\n",
        "#               metrics=['accuracy'])\r\n",
        "\r\n",
        "# model.fit(train_data, train_labels,\r\n",
        "#           epochs=50,\r\n",
        "#           batch_size=batch_size,\r\n",
        "#           validation_data=(validation_data, validation_labels))\r\n",
        "# model.save_weights('bottleneck_fc_model.h5')"
      ],
      "execution_count": null,
      "outputs": []
    },
    {
      "cell_type": "code",
      "metadata": {
        "id": "Hfo_f8Prw34t"
      },
      "source": [
        ""
      ],
      "execution_count": null,
      "outputs": []
    }
  ]
}